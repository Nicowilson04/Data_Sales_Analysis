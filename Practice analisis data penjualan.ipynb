{
 "cells": [
  {
   "cell_type": "markdown",
   "metadata": {},
   "source": [
    "# Data Sales Analysis"
   ]
  },
  {
   "cell_type": "markdown",
   "metadata": {},
   "source": [
    "#### Berikut adalah data hasil penjualan selama tahun 2019. Saya akan mencoba untuk menganalisis data untuk mencari tahu:\n",
    "1. Apa bulan dengan pendapatan penjualan tertinggi?\n",
    "2. Apa Kota dengan pendapatan penjualan tertinggi?\n",
    "3. Waktu terbaik untuk menampilkan iklan, berdasarkan jam dimana konsumen paling sering membelian produk.\n",
    "4. Product dengan penjualan terbanyak.\n"
   ]
  },
  {
   "cell_type": "markdown",
   "metadata": {},
   "source": [
    "#### Import Library"
   ]
  },
  {
   "cell_type": "code",
   "execution_count": 1,
   "metadata": {},
   "outputs": [],
   "source": [
    "import pandas as pd\n",
    "import matplotlib.pyplot as plt"
   ]
  },
  {
   "cell_type": "markdown",
   "metadata": {},
   "source": [
    "#### Import Data"
   ]
  },
  {
   "cell_type": "code",
   "execution_count": 2,
   "metadata": {},
   "outputs": [],
   "source": [
    "df1 = pd.read_csv('Sales_April_2019.csv')\n",
    "df2 = pd.read_csv('Sales_May_2019.csv')\n",
    "df3 =pd.read_csv('Sales_January_2019.csv')\n",
    "df4 =pd.read_csv('Sales_February_2019.csv')\n",
    "df5 =pd.read_csv('Sales_March_2019.csv')\n",
    "df6 =pd.read_csv('Sales_June_2019.csv')\n",
    "df7 =pd.read_csv('Sales_July_2019.csv')\n",
    "df8 =pd.read_csv('Sales_August_2019.csv')\n",
    "df9 =pd.read_csv('Sales_September_2019.csv')\n",
    "df10 =pd.read_csv('Sales_October_2019.csv')\n",
    "df11 =pd.read_csv('Sales_November_2019.csv')\n",
    "df12 =pd.read_csv('Sales_December_2019.csv')"
   ]
  },
  {
   "cell_type": "markdown",
   "metadata": {},
   "source": [
    "#### Cleaning Data"
   ]
  },
  {
   "cell_type": "code",
   "execution_count": 3,
   "metadata": {},
   "outputs": [],
   "source": [
    "df_gabungan = pd.concat([df1,df2,df3,df4,df5,df6,df7,df8,df9,df10,df11,df12])\n",
    "\n",
    "is_NaN = df_gabungan.isnull()\n",
    "row_has_NaN = is_NaN.any(axis=1)\n",
    "row_with_NaN = df_gabungan[row_has_NaN]\n",
    "\n",
    "df_str = df_gabungan[df_gabungan['Order Date']=='Order Date']"
   ]
  },
  {
   "cell_type": "markdown",
   "metadata": {},
   "source": [
    "#### Menghilangkan Nan dan string Value"
   ]
  },
  {
   "cell_type": "code",
   "execution_count": 4,
   "metadata": {},
   "outputs": [],
   "source": [
    "df_nonNan = df_gabungan.dropna(how='all')"
   ]
  },
  {
   "cell_type": "code",
   "execution_count": 5,
   "metadata": {},
   "outputs": [],
   "source": [
    "df = df_nonNan.drop([i for i in df_str.index])"
   ]
  },
  {
   "cell_type": "code",
   "execution_count": 6,
   "metadata": {
    "scrolled": true
   },
   "outputs": [
    {
     "name": "stderr",
     "output_type": "stream",
     "text": [
      "<ipython-input-6-1da51c38df1f>:1: SettingWithCopyWarning: \n",
      "A value is trying to be set on a copy of a slice from a DataFrame.\n",
      "Try using .loc[row_indexer,col_indexer] = value instead\n",
      "\n",
      "See the caveats in the documentation: https://pandas.pydata.org/pandas-docs/stable/user_guide/indexing.html#returning-a-view-versus-a-copy\n",
      "  df['Quantity Ordered'] = pd.to_numeric(df['Quantity Ordered'])\n",
      "<ipython-input-6-1da51c38df1f>:2: SettingWithCopyWarning: \n",
      "A value is trying to be set on a copy of a slice from a DataFrame.\n",
      "Try using .loc[row_indexer,col_indexer] = value instead\n",
      "\n",
      "See the caveats in the documentation: https://pandas.pydata.org/pandas-docs/stable/user_guide/indexing.html#returning-a-view-versus-a-copy\n",
      "  df['Price Each'] = pd.to_numeric(df['Price Each'])\n"
     ]
    }
   ],
   "source": [
    "df['Quantity Ordered'] = pd.to_numeric(df['Quantity Ordered'])\n",
    "df['Price Each'] = pd.to_numeric(df['Price Each'])"
   ]
  },
  {
   "cell_type": "markdown",
   "metadata": {},
   "source": [
    "##### Menambahkan Kolom Baru yaitu Month dan Sales"
   ]
  },
  {
   "cell_type": "code",
   "execution_count": 7,
   "metadata": {
    "scrolled": false
   },
   "outputs": [
    {
     "name": "stderr",
     "output_type": "stream",
     "text": [
      "<ipython-input-7-3eed6fd5bfb8>:1: SettingWithCopyWarning: \n",
      "A value is trying to be set on a copy of a slice from a DataFrame.\n",
      "Try using .loc[row_indexer,col_indexer] = value instead\n",
      "\n",
      "See the caveats in the documentation: https://pandas.pydata.org/pandas-docs/stable/user_guide/indexing.html#returning-a-view-versus-a-copy\n",
      "  df['Sales'] = df['Quantity Ordered']*df['Price Each']\n"
     ]
    }
   ],
   "source": [
    "df['Sales'] = df['Quantity Ordered']*df['Price Each']"
   ]
  },
  {
   "cell_type": "code",
   "execution_count": 8,
   "metadata": {},
   "outputs": [
    {
     "name": "stderr",
     "output_type": "stream",
     "text": [
      "<ipython-input-8-c722bfc7d93b>:1: SettingWithCopyWarning: \n",
      "A value is trying to be set on a copy of a slice from a DataFrame.\n",
      "Try using .loc[row_indexer,col_indexer] = value instead\n",
      "\n",
      "See the caveats in the documentation: https://pandas.pydata.org/pandas-docs/stable/user_guide/indexing.html#returning-a-view-versus-a-copy\n",
      "  df['Month'] = df['Order Date'].str[0:2]\n"
     ]
    }
   ],
   "source": [
    "df['Month'] = df['Order Date'].str[0:2]"
   ]
  },
  {
   "cell_type": "code",
   "execution_count": 9,
   "metadata": {},
   "outputs": [],
   "source": [
    "df.to_csv('Clean Data.csv', index=False)"
   ]
  },
  {
   "cell_type": "markdown",
   "metadata": {},
   "source": [
    "#### Melakukan pengelompokkan berdasarkan Bulan"
   ]
  },
  {
   "cell_type": "code",
   "execution_count": 10,
   "metadata": {},
   "outputs": [
    {
     "data": {
      "text/html": [
       "<div>\n",
       "<style scoped>\n",
       "    .dataframe tbody tr th:only-of-type {\n",
       "        vertical-align: middle;\n",
       "    }\n",
       "\n",
       "    .dataframe tbody tr th {\n",
       "        vertical-align: top;\n",
       "    }\n",
       "\n",
       "    .dataframe thead th {\n",
       "        text-align: right;\n",
       "    }\n",
       "</style>\n",
       "<table border=\"1\" class=\"dataframe\">\n",
       "  <thead>\n",
       "    <tr style=\"text-align: right;\">\n",
       "      <th></th>\n",
       "      <th>Quantity Ordered</th>\n",
       "      <th>Price Each</th>\n",
       "      <th>Sales</th>\n",
       "    </tr>\n",
       "    <tr>\n",
       "      <th>Month</th>\n",
       "      <th></th>\n",
       "      <th></th>\n",
       "      <th></th>\n",
       "    </tr>\n",
       "  </thead>\n",
       "  <tbody>\n",
       "    <tr>\n",
       "      <th>01</th>\n",
       "      <td>10670</td>\n",
       "      <td>1.776156e+06</td>\n",
       "      <td>1.786511e+06</td>\n",
       "    </tr>\n",
       "    <tr>\n",
       "      <th>02</th>\n",
       "      <td>13162</td>\n",
       "      <td>2.145209e+06</td>\n",
       "      <td>2.158127e+06</td>\n",
       "    </tr>\n",
       "    <tr>\n",
       "      <th>03</th>\n",
       "      <td>16697</td>\n",
       "      <td>2.740393e+06</td>\n",
       "      <td>2.755969e+06</td>\n",
       "    </tr>\n",
       "    <tr>\n",
       "      <th>04</th>\n",
       "      <td>20226</td>\n",
       "      <td>3.313522e+06</td>\n",
       "      <td>3.336376e+06</td>\n",
       "    </tr>\n",
       "    <tr>\n",
       "      <th>05</th>\n",
       "      <td>18344</td>\n",
       "      <td>3.084756e+06</td>\n",
       "      <td>3.101881e+06</td>\n",
       "    </tr>\n",
       "    <tr>\n",
       "      <th>06</th>\n",
       "      <td>14964</td>\n",
       "      <td>2.508863e+06</td>\n",
       "      <td>2.524465e+06</td>\n",
       "    </tr>\n",
       "    <tr>\n",
       "      <th>07</th>\n",
       "      <td>15781</td>\n",
       "      <td>2.572765e+06</td>\n",
       "      <td>2.587445e+06</td>\n",
       "    </tr>\n",
       "    <tr>\n",
       "      <th>08</th>\n",
       "      <td>13185</td>\n",
       "      <td>2.178184e+06</td>\n",
       "      <td>2.191698e+06</td>\n",
       "    </tr>\n",
       "    <tr>\n",
       "      <th>09</th>\n",
       "      <td>12827</td>\n",
       "      <td>2.038020e+06</td>\n",
       "      <td>2.050361e+06</td>\n",
       "    </tr>\n",
       "    <tr>\n",
       "      <th>10</th>\n",
       "      <td>22356</td>\n",
       "      <td>3.658885e+06</td>\n",
       "      <td>3.679254e+06</td>\n",
       "    </tr>\n",
       "    <tr>\n",
       "      <th>11</th>\n",
       "      <td>19479</td>\n",
       "      <td>3.130969e+06</td>\n",
       "      <td>3.149785e+06</td>\n",
       "    </tr>\n",
       "    <tr>\n",
       "      <th>12</th>\n",
       "      <td>27764</td>\n",
       "      <td>4.533152e+06</td>\n",
       "      <td>4.557905e+06</td>\n",
       "    </tr>\n",
       "  </tbody>\n",
       "</table>\n",
       "</div>"
      ],
      "text/plain": [
       "       Quantity Ordered    Price Each         Sales\n",
       "Month                                              \n",
       "01                10670  1.776156e+06  1.786511e+06\n",
       "02                13162  2.145209e+06  2.158127e+06\n",
       "03                16697  2.740393e+06  2.755969e+06\n",
       "04                20226  3.313522e+06  3.336376e+06\n",
       "05                18344  3.084756e+06  3.101881e+06\n",
       "06                14964  2.508863e+06  2.524465e+06\n",
       "07                15781  2.572765e+06  2.587445e+06\n",
       "08                13185  2.178184e+06  2.191698e+06\n",
       "09                12827  2.038020e+06  2.050361e+06\n",
       "10                22356  3.658885e+06  3.679254e+06\n",
       "11                19479  3.130969e+06  3.149785e+06\n",
       "12                27764  4.533152e+06  4.557905e+06"
      ]
     },
     "execution_count": 10,
     "metadata": {},
     "output_type": "execute_result"
    }
   ],
   "source": [
    "Hasil = df.groupby(by='Month', axis=0).sum()\n",
    "Hasil"
   ]
  },
  {
   "cell_type": "markdown",
   "metadata": {},
   "source": [
    "### 1. Apa bulan dengan pendapatan penjualan tertinggi?"
   ]
  },
  {
   "cell_type": "code",
   "execution_count": 11,
   "metadata": {},
   "outputs": [
    {
     "data": {
      "image/png": "[encoded data removed]",
      "text/plain": [
       "<Figure size 432x288 with 1 Axes>"
      ]
     },
     "metadata": {
      "needs_background": "light"
     },
     "output_type": "display_data"
    }
   ],
   "source": [
    "x = range(1,13)\n",
    "y = Hasil['Sales']\n",
    "\n",
    "\n",
    "plt.bar(x,y)\n",
    "plt.xticks(x)\n",
    "plt.xlabel('Bulan')\n",
    "plt.ylabel('Total Penjualan')\n",
    "plt.title('Hasil Penjualan Sepanjang 2019')\n",
    "\n",
    "plt.show()"
   ]
  },
  {
   "cell_type": "markdown",
   "metadata": {},
   "source": [
    "#### Kesimpulan: Berdasarkan hasil pengolahan data, dapat disimpulkan bahwa total penjualan terbesar terjadi di bulan Desember, disusul bulan Oktober dan April."
   ]
  },
  {
   "cell_type": "markdown",
   "metadata": {},
   "source": [
    "### 2. Apa kota dengan penjualan tertinggi?"
   ]
  },
  {
   "cell_type": "code",
   "execution_count": 12,
   "metadata": {},
   "outputs": [
    {
     "name": "stderr",
     "output_type": "stream",
     "text": [
      "<ipython-input-12-765f91245aca>:2: SettingWithCopyWarning: \n",
      "A value is trying to be set on a copy of a slice from a DataFrame.\n",
      "Try using .loc[row_indexer,col_indexer] = value instead\n",
      "\n",
      "See the caveats in the documentation: https://pandas.pydata.org/pandas-docs/stable/user_guide/indexing.html#returning-a-view-versus-a-copy\n",
      "  df['City'] = df['Purchase Address'].apply(lambda x: x.split(',')[1])\n"
     ]
    }
   ],
   "source": [
    "# Menambahkan kolom Kota\n",
    "df['City'] = df['Purchase Address'].apply(lambda x: x.split(',')[1])"
   ]
  },
  {
   "cell_type": "code",
   "execution_count": 21,
   "metadata": {},
   "outputs": [],
   "source": [
    "df_groupped_by_city = df.groupby(by='City',axis=0).sum()"
   ]
  },
  {
   "cell_type": "code",
   "execution_count": 15,
   "metadata": {},
   "outputs": [
    {
     "data": {
      "image/png": "[encoded data removed]",
      "text/plain": [
       "<Figure size 432x288 with 1 Axes>"
      ]
     },
     "metadata": {
      "needs_background": "light"
     },
     "output_type": "display_data"
    }
   ],
   "source": [
    "x = df_groupped_by_city.index\n",
    "y = df_groupped_by_city['Sales']\n",
    "\n",
    "\n",
    "plt.bar(x,df_groupped_by_city['Sales'])\n",
    "plt.xticks(x, rotation=45)\n",
    "plt.ylabel('Total Penjualan')\n",
    "plt.title('Hasil Penjualan Sepanjang 2019')\n",
    "\n",
    "plt.show()"
   ]
  },
  {
   "cell_type": "markdown",
   "metadata": {},
   "source": [
    "#### Kesimpulan 2 : Kota dengan penjualan terbanyak adalah San francisco"
   ]
  },
  {
   "cell_type": "markdown",
   "metadata": {},
   "source": [
    "## 3. Kapan waktu terbaik untuk menampilkan iklan?"
   ]
  },
  {
   "cell_type": "code",
   "execution_count": 16,
   "metadata": {},
   "outputs": [
    {
     "name": "stderr",
     "output_type": "stream",
     "text": [
      "<ipython-input-16-dbca713e4778>:2: SettingWithCopyWarning: \n",
      "A value is trying to be set on a copy of a slice from a DataFrame.\n",
      "Try using .loc[row_indexer,col_indexer] = value instead\n",
      "\n",
      "See the caveats in the documentation: https://pandas.pydata.org/pandas-docs/stable/user_guide/indexing.html#returning-a-view-versus-a-copy\n",
      "  df['Order Date'] = pd.to_datetime(df['Order Date'])\n",
      "<ipython-input-16-dbca713e4778>:3: SettingWithCopyWarning: \n",
      "A value is trying to be set on a copy of a slice from a DataFrame.\n",
      "Try using .loc[row_indexer,col_indexer] = value instead\n",
      "\n",
      "See the caveats in the documentation: https://pandas.pydata.org/pandas-docs/stable/user_guide/indexing.html#returning-a-view-versus-a-copy\n",
      "  df['Hour'] = df['Order Date'].dt.hour\n",
      "<ipython-input-16-dbca713e4778>:4: SettingWithCopyWarning: \n",
      "A value is trying to be set on a copy of a slice from a DataFrame.\n",
      "Try using .loc[row_indexer,col_indexer] = value instead\n",
      "\n",
      "See the caveats in the documentation: https://pandas.pydata.org/pandas-docs/stable/user_guide/indexing.html#returning-a-view-versus-a-copy\n",
      "  df['Total Frekuensi']=1\n"
     ]
    }
   ],
   "source": [
    "#Menambahkan kolom jam\n",
    "df['Order Date'] = pd.to_datetime(df['Order Date'])\n",
    "df['Hour'] = df['Order Date'].dt.hour\n",
    "df['Total Frekuensi']=1"
   ]
  },
  {
   "cell_type": "code",
   "execution_count": 17,
   "metadata": {},
   "outputs": [],
   "source": [
    "df_groupped_by_hour = df.groupby(by='Hour',axis=0).sum()"
   ]
  },
  {
   "cell_type": "code",
   "execution_count": 18,
   "metadata": {},
   "outputs": [
    {
     "data": {
      "image/png": "[encoded data removed]",
      "text/plain": [
       "<Figure size 432x288 with 1 Axes>"
      ]
     },
     "metadata": {
      "needs_background": "light"
     },
     "output_type": "display_data"
    }
   ],
   "source": [
    "x = df_groupped_by_hour.index\n",
    "y = df_groupped_by_hour['Total Frekuensi']\n",
    "\n",
    "\n",
    "plt.bar(x,df_groupped_by_hour['Total Frekuensi'])\n",
    "plt.xticks(x, rotation=90)\n",
    "plt.xlabel ('Jam Pembelian')\n",
    "plt.ylabel('Total Frekuensi Pembelian')\n",
    "plt.title('Hasil Penjualan Sepanjang 2019')\n",
    "\n",
    "plt.show()"
   ]
  },
  {
   "cell_type": "markdown",
   "metadata": {},
   "source": [
    "#### Kesimpulan : Waktu terbaik untuk menampilkan iklan adalah jam 11-13 dan jam 18-20, bila dilihat dari frekuensi pembelian"
   ]
  },
  {
   "cell_type": "markdown",
   "metadata": {},
   "source": [
    "### 4. Product apa yang terjual paling banyak?"
   ]
  },
  {
   "cell_type": "code",
   "execution_count": 22,
   "metadata": {},
   "outputs": [],
   "source": [
    "df_groupped_by_product = df.groupby(by='Product', axis=0).sum()"
   ]
  },
  {
   "cell_type": "code",
   "execution_count": 20,
   "metadata": {},
   "outputs": [
    {
     "name": "stderr",
     "output_type": "stream",
     "text": [
      "<ipython-input-20-c68801dbdeb7>:14: UserWarning: FixedFormatter should only be used together with FixedLocator\n",
      "  ax.set_xticklabels(x, rotation=90)\n"
     ]
    },
    {
     "data": {
      "text/plain": [
       "[Text(0, 0, '20in Monitor'),\n",
       " Text(1, 0, '27in 4K Gaming Monitor'),\n",
       " Text(2, 0, '27in FHD Monitor'),\n",
       " Text(3, 0, '34in Ultrawide Monitor'),\n",
       " Text(4, 0, 'AA Batteries (4-pack)'),\n",
       " Text(5, 0, 'AAA Batteries (4-pack)'),\n",
       " Text(6, 0, 'Apple Airpods Headphones'),\n",
       " Text(7, 0, 'Bose SoundSport Headphones'),\n",
       " Text(8, 0, 'Flatscreen TV'),\n",
       " Text(9, 0, 'Google Phone'),\n",
       " Text(10, 0, 'LG Dryer'),\n",
       " Text(11, 0, 'LG Washing Machine'),\n",
       " Text(12, 0, 'Lightning Charging Cable'),\n",
       " Text(13, 0, 'Macbook Pro Laptop'),\n",
       " Text(14, 0, 'ThinkPad Laptop'),\n",
       " Text(15, 0, 'USB-C Charging Cable'),\n",
       " Text(16, 0, 'Vareebadd Phone'),\n",
       " Text(17, 0, 'Wired Headphones'),\n",
       " Text(18, 0, 'iPhone')]"
      ]
     },
     "execution_count": 20,
     "metadata": {},
     "output_type": "execute_result"
    },
    {
     "data": {
      "image/png": "[encoded data removed]",
      "text/plain": [
       "<Figure size 432x288 with 2 Axes>"
      ]
     },
     "metadata": {
      "needs_background": "light"
     },
     "output_type": "display_data"
    }
   ],
   "source": [
    "x = df_groupped_by_product.index\n",
    "y = df_groupped_by_product['Total Frekuensi']\n",
    "y2 = df_groupped_by_product['Sales']\n",
    "\n",
    "\n",
    "fig, ax = plt.subplots()\n",
    "ax2 = ax.twinx()\n",
    "ax.bar(x, y, color = 'g')\n",
    "ax2.plot(x,y2, color = 'r')\n",
    "\n",
    "ax.set_xlabel('Product Terjual')\n",
    "ax.set_ylabel('Jumlah yang terjual', color='g')\n",
    "ax2.set_ylabel('Harga', color='r')\n",
    "ax.set_xticklabels(x, rotation=90)"
   ]
  },
  {
   "cell_type": "markdown",
   "metadata": {},
   "source": [
    "#### Kesimpulan : produk yang paling banyak terjual adalah USB-C Charging Cable, Lightning Charging Cable, AAA batteries (4-pack), dan AA batteries (4-pack)"
   ]
  }
 ],
 "metadata": {
  "kernelspec": {
   "display_name": "Python 3",
   "language": "python",
   "name": "python3"
  },
  "language_info": {
   "codemirror_mode": {
    "name": "ipython",
    "version": 3
   },
   "file_extension": ".py",
   "mimetype": "text/x-python",
   "name": "python",
   "nbconvert_exporter": "python",
   "pygments_lexer": "ipython3",
   "version": "3.8.5"
  }
 },
 "nbformat": 4,
 "nbformat_minor": 4
}
